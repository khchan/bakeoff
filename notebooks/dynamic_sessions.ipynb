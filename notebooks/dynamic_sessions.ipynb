{
 "cells": [
  {
   "cell_type": "code",
   "execution_count": 1,
   "metadata": {},
   "outputs": [],
   "source": [
    "import os\n",
    "from semantic_kernel.agents import ChatCompletionAgent\n",
    "from semantic_kernel.connectors.ai.open_ai import AzureChatCompletion\n",
    "from semantic_kernel.contents import ChatMessageContent, FunctionCallContent, FunctionResultContent\n",
    "from semantic_kernel.core_plugins import SessionsPythonTool\n",
    "from azure.identity import EnvironmentCredential, get_bearer_token_provider\n",
    "from dotenv import load_dotenv\n",
    "\n",
    "load_dotenv()\n",
    "pool_management_endpoint = os.getenv(\"POOL_MANAGEMENT_ENDPOINT\")\n",
    "chat_endpoint=os.getenv(\"OPENAI_ENDPOINT\")\n",
    "model_deployment_name=os.getenv(\"OPENAI_DEPLOYMENT_NAME\")"
   ]
  },
  {
   "cell_type": "code",
   "execution_count": 2,
   "metadata": {},
   "outputs": [],
   "source": [
    "async def handle_intermediate_steps(message: ChatMessageContent) -> None:\n",
    "    for item in message.items or []:\n",
    "        if isinstance(item, FunctionResultContent):\n",
    "            print(f\"# Function Result:> {item.result}\")\n",
    "        elif isinstance(item, FunctionCallContent):\n",
    "            print(f\"# Function Call:> {item.name} with arguments: {item.arguments}\")\n",
    "        else:\n",
    "            print(f\"# {message.name}: {message} \")"
   ]
  },
  {
   "cell_type": "markdown",
   "metadata": {},
   "source": [
    "### Azure Dyamic Session Example\n",
    "\n",
    "Authentication is also handled with service principals - just need to ensure the SPN has a role assignment to the resource with the `Azure ContainerApps Session Executor` role.\n",
    "\n",
    "The example below configures a `ChatCompletionAgent` backed with a `SessionsPythonTool` to execute python in a sandboxed environment.  \n",
    "There are a few things we can configure with the pool:\n",
    "- Language type: Python\n",
    "- Maximum concurrent sessions: 5\n",
    "- Session cooldown period: 300 seconds\n",
    "- Network egress: disabled\n"
   ]
  },
  {
   "cell_type": "code",
   "execution_count": 5,
   "metadata": {},
   "outputs": [
    {
     "name": "stdout",
     "output_type": "stream",
     "text": [
      "# User: 'What's 2x + 1 = 10?'\n",
      "# Function Call:> SessionsPythonTool-execute_code with arguments: {\"code\":\"from sympy import symbols, Eq, solve\\nx = symbols('x')\\nequation = Eq(2*x + 1, 10)\\nsolution = solve(equation, x)\\nsolution\"}\n",
      "# Function Result:> Status:\n",
      "Success\n",
      "Result:\n",
      "[9/2]\n",
      "Stdout:\n",
      "\n",
      "Stderr:\n",
      "\n",
      "# MathTutor: The solution to the equation \\( 2x + 1 = 10 \\) is \\( x = \\frac{9}{2} \\), or in decimal form, \\( x = 4.5 \\). \n"
     ]
    }
   ],
   "source": [
    "\n",
    "# 1. Create the python code interpreter tool using the SessionsPythonTool\n",
    "python_code_interpreter = SessionsPythonTool(pool_management_endpoint=pool_management_endpoint)\n",
    "\n",
    "# 2. Create the agent\n",
    "agent = ChatCompletionAgent(\n",
    "    service=AzureChatCompletion(\n",
    "        endpoint=chat_endpoint,\n",
    "        ad_token_provider=get_bearer_token_provider(EnvironmentCredential(), \"https://cognitiveservices.azure.com/.default\"),\n",
    "        deployment_name=model_deployment_name\n",
    "    ),\n",
    "    name=\"MathTutor\",\n",
    "    instructions=\"You are helping a 10 year old boy with his math homework.  ALWAYS use the python code interpreter to solve the problem.\",\n",
    "    plugins=[python_code_interpreter]\n",
    ")\n",
    "\n",
    "# 3. Upload a CSV file to the session\n",
    "# file_metadata = await python_code_interpreter.upload_file(local_file_path=\"./test.txt\")\n",
    "\n",
    "TASK = \"What's 2x + 1 = 10?\"\n",
    "print(f\"# User: '{TASK}'\")\n",
    "\n",
    "async for response in agent.invoke(\n",
    "    messages=TASK,\n",
    "    on_intermediate_message=handle_intermediate_steps,\n",
    "):\n",
    "    print(f\"# {response.name}: {response} \")"
   ]
  }
 ],
 "metadata": {
  "kernelspec": {
   "display_name": ".venv",
   "language": "python",
   "name": "python3"
  },
  "language_info": {
   "codemirror_mode": {
    "name": "ipython",
    "version": 3
   },
   "file_extension": ".py",
   "mimetype": "text/x-python",
   "name": "python",
   "nbconvert_exporter": "python",
   "pygments_lexer": "ipython3",
   "version": "3.10.9"
  }
 },
 "nbformat": 4,
 "nbformat_minor": 2
}
